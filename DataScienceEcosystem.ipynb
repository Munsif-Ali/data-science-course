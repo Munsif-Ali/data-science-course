{
 "cells": [
  {
   "cell_type": "markdown",
   "id": "b0f50d5c-7021-4e2b-8313-a37fc596bdd9",
   "metadata": {},
   "source": [
    "# Data Science Tools and Ecosystem"
   ]
  },
  {
   "cell_type": "markdown",
   "id": "f099052c-6c27-4eb1-b5c3-c3e8ed9df3cf",
   "metadata": {},
   "source": [
    "In this notebook, Data Science Tools and Ecosystem are summarized."
   ]
  },
  {
   "cell_type": "markdown",
   "id": "7fa1374f-8c14-4cf1-8665-7b7b3d4aefd6",
   "metadata": {},
   "source": [
    "Some of the popular languages that Data Scientists use are:\n",
    "1. Python\n",
    "2. R\n",
    "3. SQL"
   ]
  },
  {
   "cell_type": "markdown",
   "id": "fa613117-2bfe-475d-8429-908f1163945e",
   "metadata": {},
   "source": [
    "**Objectives:**\n",
    "- Learn How to create headings in jupyter notebook\n",
    "- Learn How to create tables inside jupyter notebook\n",
    "- Learn How to execute code inside jupyter notebook\n",
    "- Learn about popular languages used in data science."
   ]
  },
  {
   "cell_type": "markdown",
   "id": "1ad304b5-f2dc-419c-b46d-0fb3f0af4768",
   "metadata": {},
   "source": [
    "Some of the commonly used libraries used by Data Scientists include:\n",
    "1. TensorFlow\n",
    "1. NumPy\n",
    "1. SciPy \n",
    "1. Pandas"
   ]
  },
  {
   "cell_type": "markdown",
   "id": "9090a1e3-14f5-4f8f-894d-f069a1c4ddb5",
   "metadata": {},
   "source": [
    "| Data Science Tools |\n",
    "| --- |\n",
    "| Jupyter Notebook |\n",
    "| RStudio |\n",
    "| Spyder IDE |"
   ]
  },
  {
   "cell_type": "markdown",
   "id": "9ac9995e-9881-47e0-9079-c48d85a417fd",
   "metadata": {},
   "source": [
    "### Below are a few examples of evaluating arithmetic expressions in Python"
   ]
  },
  {
   "cell_type": "code",
   "execution_count": 2,
   "id": "7ecc5e87-f411-454c-9d81-f65d33be241b",
   "metadata": {},
   "outputs": [
    {
     "name": "stdout",
     "output_type": "stream",
     "text": [
      "7\n"
     ]
    }
   ],
   "source": [
    "print(3+4)"
   ]
  },
  {
   "cell_type": "code",
   "execution_count": 3,
   "id": "c2a8d40d-d170-4069-807e-ebe5f34e95fb",
   "metadata": {},
   "outputs": [
    {
     "name": "stdout",
     "output_type": "stream",
     "text": [
      "20\n"
     ]
    }
   ],
   "source": [
    "print(5*4)"
   ]
  },
  {
   "cell_type": "markdown",
   "id": "ef4b9751-59f3-470b-a85f-812c7dbbace1",
   "metadata": {},
   "source": [
    "This a simple arithmetic expression to mutiply then add integers"
   ]
  },
  {
   "cell_type": "code",
   "execution_count": 4,
   "id": "af70b7da-6bb6-487f-bcc8-2e711b0aaeda",
   "metadata": {},
   "outputs": [
    {
     "data": {
      "text/plain": [
       "17"
      ]
     },
     "execution_count": 4,
     "metadata": {},
     "output_type": "execute_result"
    }
   ],
   "source": [
    "(3*4)+5"
   ]
  },
  {
   "cell_type": "markdown",
   "id": "9d8bc5ff-5727-44be-ab65-3085756d54ed",
   "metadata": {},
   "source": [
    "This will convert 200 minutes to hours by diving by 60"
   ]
  },
  {
   "cell_type": "code",
   "execution_count": 5,
   "id": "a3742b54-d2d8-4181-969d-0bd29954a417",
   "metadata": {},
   "outputs": [
    {
     "data": {
      "text/plain": [
       "3.3333333333333335"
      ]
     },
     "execution_count": 5,
     "metadata": {},
     "output_type": "execute_result"
    }
   ],
   "source": [
    "200/60"
   ]
  },
  {
   "cell_type": "markdown",
   "id": "99201e89-ab48-4b17-a779-6a61ec1984b1",
   "metadata": {},
   "source": [
    "## Author\n",
    "Munsif Ali"
   ]
  },
  {
   "cell_type": "code",
   "execution_count": null,
   "id": "c278159c-6bd0-47ff-ac69-433885c2c3b0",
   "metadata": {},
   "outputs": [],
   "source": []
  }
 ],
 "metadata": {
  "kernelspec": {
   "display_name": "Python",
   "language": "python",
   "name": "conda-env-python-py"
  },
  "language_info": {
   "codemirror_mode": {
    "name": "ipython",
    "version": 3
   },
   "file_extension": ".py",
   "mimetype": "text/x-python",
   "name": "python",
   "nbconvert_exporter": "python",
   "pygments_lexer": "ipython3",
   "version": "3.7.12"
  }
 },
 "nbformat": 4,
 "nbformat_minor": 5
}
